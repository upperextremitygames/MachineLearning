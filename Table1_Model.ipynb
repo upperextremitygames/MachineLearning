{
 "cells": [
  {
   "cell_type": "markdown",
   "metadata": {},
   "source": [
    "# Algorithms for Table 1"
   ]
  },
  {
   "cell_type": "markdown",
   "metadata": {},
   "source": [
    "This Jypyter Notebook takes the first table, and produces an optimal machine learning algorithm on it. That is, it takes patients' initial movement variables, including their angle of shoulder abduction, shoulder flexion, and elbow flextion, and outputs whether the patient should be playing a game of Easy, Medium, or Hard difficulty."
   ]
  },
  {
   "cell_type": "markdown",
   "metadata": {},
   "source": [
    "First, we import the necessary packages, load them into a pandas DataFrame, and display a sample of the data."
   ]
  },
  {
   "cell_type": "code",
   "execution_count": 1,
   "metadata": {},
   "outputs": [],
   "source": [
    "import numpy as np\n",
    "import pandas as pd\n",
    "import matplotlib.pyplot as plt\n",
    "import seaborn as sns\n",
    "%matplotlib inline"
   ]
  },
  {
   "cell_type": "code",
   "execution_count": 2,
   "metadata": {},
   "outputs": [],
   "source": [
    "import warnings\n",
    "warnings.filterwarnings(action = 'ignore')\n",
    "# ignoring warnings, to make the results simpler to read"
   ]
  },
  {
   "cell_type": "code",
   "execution_count": 3,
   "metadata": {},
   "outputs": [],
   "source": [
    "new = pd.read_excel('Data1.xlsx', sheet_name = 'Table1 - Assessments')"
   ]
  },
  {
   "cell_type": "code",
   "execution_count": 4,
   "metadata": {},
   "outputs": [],
   "source": [
    "new.set_index('Patient No. (ID)', inplace=True)"
   ]
  },
  {
   "cell_type": "code",
   "execution_count": 5,
   "metadata": {},
   "outputs": [
    {
     "data": {
      "text/html": [
       "<div>\n",
       "<style scoped>\n",
       "    .dataframe tbody tr th:only-of-type {\n",
       "        vertical-align: middle;\n",
       "    }\n",
       "\n",
       "    .dataframe tbody tr th {\n",
       "        vertical-align: top;\n",
       "    }\n",
       "\n",
       "    .dataframe thead th {\n",
       "        text-align: right;\n",
       "    }\n",
       "</style>\n",
       "<table border=\"1\" class=\"dataframe\">\n",
       "  <thead>\n",
       "    <tr style=\"text-align: right;\">\n",
       "      <th></th>\n",
       "      <th>Average Shoulder abduction</th>\n",
       "      <th>Average Shoulder flexion</th>\n",
       "      <th>Average Elbow flexion</th>\n",
       "      <th>Total time taken</th>\n",
       "      <th>Output</th>\n",
       "    </tr>\n",
       "    <tr>\n",
       "      <th>Patient No. (ID)</th>\n",
       "      <th></th>\n",
       "      <th></th>\n",
       "      <th></th>\n",
       "      <th></th>\n",
       "      <th></th>\n",
       "    </tr>\n",
       "  </thead>\n",
       "  <tbody>\n",
       "    <tr>\n",
       "      <th>30</th>\n",
       "      <td>78</td>\n",
       "      <td>68</td>\n",
       "      <td>78</td>\n",
       "      <td>107</td>\n",
       "      <td>Medium</td>\n",
       "    </tr>\n",
       "    <tr>\n",
       "      <th>47</th>\n",
       "      <td>111</td>\n",
       "      <td>84</td>\n",
       "      <td>87</td>\n",
       "      <td>97</td>\n",
       "      <td>Medium</td>\n",
       "    </tr>\n",
       "    <tr>\n",
       "      <th>70</th>\n",
       "      <td>139</td>\n",
       "      <td>106</td>\n",
       "      <td>100</td>\n",
       "      <td>86</td>\n",
       "      <td>Hard</td>\n",
       "    </tr>\n",
       "    <tr>\n",
       "      <th>66</th>\n",
       "      <td>135</td>\n",
       "      <td>102</td>\n",
       "      <td>97</td>\n",
       "      <td>89</td>\n",
       "      <td>Hard</td>\n",
       "    </tr>\n",
       "    <tr>\n",
       "      <th>42</th>\n",
       "      <td>102</td>\n",
       "      <td>76</td>\n",
       "      <td>84</td>\n",
       "      <td>101</td>\n",
       "      <td>Medium</td>\n",
       "    </tr>\n",
       "    <tr>\n",
       "      <th>58</th>\n",
       "      <td>125</td>\n",
       "      <td>96</td>\n",
       "      <td>95</td>\n",
       "      <td>92</td>\n",
       "      <td>Hard</td>\n",
       "    </tr>\n",
       "    <tr>\n",
       "      <th>49</th>\n",
       "      <td>116</td>\n",
       "      <td>88</td>\n",
       "      <td>89</td>\n",
       "      <td>96</td>\n",
       "      <td>Medium</td>\n",
       "    </tr>\n",
       "    <tr>\n",
       "      <th>10</th>\n",
       "      <td>54</td>\n",
       "      <td>51</td>\n",
       "      <td>54</td>\n",
       "      <td>124</td>\n",
       "      <td>Easy</td>\n",
       "    </tr>\n",
       "    <tr>\n",
       "      <th>29</th>\n",
       "      <td>76</td>\n",
       "      <td>67</td>\n",
       "      <td>78</td>\n",
       "      <td>108</td>\n",
       "      <td>Medium</td>\n",
       "    </tr>\n",
       "    <tr>\n",
       "      <th>14</th>\n",
       "      <td>57</td>\n",
       "      <td>56</td>\n",
       "      <td>58</td>\n",
       "      <td>119</td>\n",
       "      <td>Easy</td>\n",
       "    </tr>\n",
       "  </tbody>\n",
       "</table>\n",
       "</div>"
      ],
      "text/plain": [
       "                  Average Shoulder abduction  Average Shoulder flexion  \\\n",
       "Patient No. (ID)                                                         \n",
       "30                                        78                        68   \n",
       "47                                       111                        84   \n",
       "70                                       139                       106   \n",
       "66                                       135                       102   \n",
       "42                                       102                        76   \n",
       "58                                       125                        96   \n",
       "49                                       116                        88   \n",
       "10                                        54                        51   \n",
       "29                                        76                        67   \n",
       "14                                        57                        56   \n",
       "\n",
       "                  Average Elbow flexion  Total time taken  Output  \n",
       "Patient No. (ID)                                                   \n",
       "30                                   78               107  Medium  \n",
       "47                                   87                97  Medium  \n",
       "70                                  100                86    Hard  \n",
       "66                                   97                89    Hard  \n",
       "42                                   84               101  Medium  \n",
       "58                                   95                92    Hard  \n",
       "49                                   89                96  Medium  \n",
       "10                                   54               124    Easy  \n",
       "29                                   78               108  Medium  \n",
       "14                                   58               119    Easy  "
      ]
     },
     "execution_count": 5,
     "metadata": {},
     "output_type": "execute_result"
    }
   ],
   "source": [
    "new.sample(10)"
   ]
  },
  {
   "cell_type": "markdown",
   "metadata": {},
   "source": [
    "This is how the data looks. It contains labelled data for 75 different patients, but here we are taking a random sample of 10. The output: Easy, Medium, and Hard, indiciates the label of each patient. This is what we want the machine algorithm to predict. Next we plot the data visually. We start with a pairplot, in order to visualise the correlation between Average Shoulder abduction, Average Shoulder flexion, Average Eblow flexion, and Total time taken."
   ]
  },
  {
   "cell_type": "markdown",
   "metadata": {},
   "source": [
    "## Data Visualisation"
   ]
  },
  {
   "cell_type": "code",
   "execution_count": 6,
   "metadata": {},
   "outputs": [
    {
     "data": {
      "text/plain": [
       "<seaborn.axisgrid.PairGrid at 0x2134f7f34a8>"
      ]
     },
     "execution_count": 6,
     "metadata": {},
     "output_type": "execute_result"
    },
    {
     "data": {
      "image/png": "[encoded data removed]",
      "text/plain": [
       "<Figure size 720x720 with 20 Axes>"
      ]
     },
     "metadata": {
      "needs_background": "light"
     },
     "output_type": "display_data"
    }
   ],
   "source": [
    "sns.pairplot(new[['Average Shoulder abduction', 'Average Shoulder flexion', 'Average Elbow flexion', 'Total time taken']])"
   ]
  },
  {
   "cell_type": "markdown",
   "metadata": {},
   "source": [
    "As we can see, there is a strong positive correlation between Average Shouolder Abduction, Average Shoulder flexion, and Average elbow flexion. Each of these, moreover, are strongly negatively correlated with total time taken. That is, the greater the range of movement in one indicator, the greater the range of movements in the other, and less time it takes the patient to perform these movements. Next, we look at the distributions of each of these input features:"
   ]
  },
  {
   "cell_type": "code",
   "execution_count": 7,
   "metadata": {},
   "outputs": [
    {
     "data": {
      "text/plain": [
       "<matplotlib.axes._subplots.AxesSubplot at 0x2135163aeb8>"
      ]
     },
     "execution_count": 7,
     "metadata": {},
     "output_type": "execute_result"
    },
    {
     "data": {
      "image/png": "[encoded data removed]",
      "text/plain": [
       "<Figure size 1008x720 with 4 Axes>"
      ]
     },
     "metadata": {
      "needs_background": "light"
     },
     "output_type": "display_data"
    }
   ],
   "source": [
    "fig, axes = plt.subplots(nrows=2, ncols=2, figsize=(14, 10))\n",
    "fig.subplots_adjust(hspace=0.5)\n",
    "fig.suptitle('Distributions of Input Features')\n",
    "sns.kdeplot(new['Average Shoulder abduction'], ax=axes[0][0])\n",
    "sns.kdeplot(new['Average Shoulder flexion'], ax=axes[0][1])\n",
    "sns.kdeplot(new['Average Elbow flexion'], ax=axes[1][0])\n",
    "sns.kdeplot(new['Total time taken'], ax=axes[1][1])"
   ]
  },
  {
   "cell_type": "markdown",
   "metadata": {},
   "source": [
    "As we can see here, each of the four input variables have similar means, variances and ranges, even though the mode differs for each. This will tend to mean that patients classified into Medium will have a small range of values for each of the input varaibles, whereas patients classified into Easy and Hard will have greater ranges, for at the tails, the spread of data is greater. We next plot violin plots of the different input variables across the difficulty levels (Output), to see how they differ across the labels. Note that a violin plot is very similar to a box plot, except a violin also (in addition showing the median, quartiles, and ranges) shows the probabilitity density of the data, and therefore its full distribution. Violin plots are therefore more informative than box plots."
   ]
  },
  {
   "cell_type": "code",
   "execution_count": 8,
   "metadata": {},
   "outputs": [
    {
     "data": {
      "image/png": "[encoded data removed]",
      "text/plain": [
       "<Figure size 1440x360 with 4 Axes>"
      ]
     },
     "metadata": {
      "needs_background": "light"
     },
     "output_type": "display_data"
    }
   ],
   "source": [
    "fig, axes = plt.subplots(nrows=1, ncols=4, figsize=(20, 5))\n",
    "fig.subplots_adjust(hspace=0.5)\n",
    "fig.suptitle('Violin Spreads Across Difficulty Outputs')\n",
    "columns = ['Average Shoulder abduction', 'Average Shoulder flexion', 'Average Elbow flexion', 'Total time taken']\n",
    "for i, p in enumerate(columns):\n",
    "    sns.violinplot(\n",
    "        x='Output',\n",
    "        y=p,\n",
    "        data=new,\n",
    "        ax=axes[i]\n",
    "    )"
   ]
  },
  {
   "cell_type": "markdown",
   "metadata": {},
   "source": [
    "From this, it can be cearly seen that the data are distinguishable across output classes. This will make the modelling task more simplistic, allowing the models to separete the classes with little overlap."
   ]
  },
  {
   "cell_type": "markdown",
   "metadata": {},
   "source": [
    "## Data Preprocessing"
   ]
  },
  {
   "cell_type": "markdown",
   "metadata": {},
   "source": [
    "Next, we preprocess the data. But before this, we need to split it. We allocate 80% of the data to training (60 patients) and 20% to testing (15 patients). We also separate the output from the inputs."
   ]
  },
  {
   "cell_type": "code",
   "execution_count": 9,
   "metadata": {},
   "outputs": [],
   "source": [
    "from sklearn.model_selection import train_test_split\n",
    "X = new.drop(columns=['Output'])\n",
    "y = new.Output\n",
    "X_train, X_test, y_train, y_test = train_test_split(X, y, test_size=0.2, random_state=12)"
   ]
  },
  {
   "cell_type": "code",
   "execution_count": 10,
   "metadata": {},
   "outputs": [
    {
     "data": {
      "text/html": [
       "<div>\n",
       "<style scoped>\n",
       "    .dataframe tbody tr th:only-of-type {\n",
       "        vertical-align: middle;\n",
       "    }\n",
       "\n",
       "    .dataframe tbody tr th {\n",
       "        vertical-align: top;\n",
       "    }\n",
       "\n",
       "    .dataframe thead th {\n",
       "        text-align: right;\n",
       "    }\n",
       "</style>\n",
       "<table border=\"1\" class=\"dataframe\">\n",
       "  <thead>\n",
       "    <tr style=\"text-align: right;\">\n",
       "      <th></th>\n",
       "      <th>Average Shoulder abduction</th>\n",
       "      <th>Average Shoulder flexion</th>\n",
       "      <th>Average Elbow flexion</th>\n",
       "      <th>Total time taken</th>\n",
       "    </tr>\n",
       "    <tr>\n",
       "      <th>Patient No. (ID)</th>\n",
       "      <th></th>\n",
       "      <th></th>\n",
       "      <th></th>\n",
       "      <th></th>\n",
       "    </tr>\n",
       "  </thead>\n",
       "  <tbody>\n",
       "    <tr>\n",
       "      <th>40</th>\n",
       "      <td>97</td>\n",
       "      <td>74</td>\n",
       "      <td>83</td>\n",
       "      <td>101</td>\n",
       "    </tr>\n",
       "    <tr>\n",
       "      <th>54</th>\n",
       "      <td>124</td>\n",
       "      <td>92</td>\n",
       "      <td>93</td>\n",
       "      <td>94</td>\n",
       "    </tr>\n",
       "    <tr>\n",
       "      <th>3</th>\n",
       "      <td>46</td>\n",
       "      <td>45</td>\n",
       "      <td>46</td>\n",
       "      <td>131</td>\n",
       "    </tr>\n",
       "    <tr>\n",
       "      <th>42</th>\n",
       "      <td>102</td>\n",
       "      <td>76</td>\n",
       "      <td>84</td>\n",
       "      <td>101</td>\n",
       "    </tr>\n",
       "    <tr>\n",
       "      <th>41</th>\n",
       "      <td>100</td>\n",
       "      <td>75</td>\n",
       "      <td>83</td>\n",
       "      <td>101</td>\n",
       "    </tr>\n",
       "  </tbody>\n",
       "</table>\n",
       "</div>"
      ],
      "text/plain": [
       "                  Average Shoulder abduction  Average Shoulder flexion  \\\n",
       "Patient No. (ID)                                                         \n",
       "40                                        97                        74   \n",
       "54                                       124                        92   \n",
       "3                                         46                        45   \n",
       "42                                       102                        76   \n",
       "41                                       100                        75   \n",
       "\n",
       "                  Average Elbow flexion  Total time taken  \n",
       "Patient No. (ID)                                           \n",
       "40                                   83               101  \n",
       "54                                   93                94  \n",
       "3                                    46               131  \n",
       "42                                   84               101  \n",
       "41                                   83               101  "
      ]
     },
     "execution_count": 10,
     "metadata": {},
     "output_type": "execute_result"
    }
   ],
   "source": [
    "X_train.sample(5)"
   ]
  },
  {
   "cell_type": "code",
   "execution_count": 11,
   "metadata": {},
   "outputs": [
    {
     "data": {
      "text/plain": [
       "Patient No. (ID)\n",
       "74      Hard\n",
       "67      Hard\n",
       "75      Hard\n",
       "34    Medium\n",
       "40    Medium\n",
       "Name: Output, dtype: object"
      ]
     },
     "execution_count": 11,
     "metadata": {},
     "output_type": "execute_result"
    }
   ],
   "source": [
    "y_train.sample(5)"
   ]
  },
  {
   "cell_type": "markdown",
   "metadata": {},
   "source": [
    "To begin the preprocessing, we label encode the data. For this, we could useLabelEncoder from the Scikit Learn library. However, Label Encoder converts each category into a random number, and such a process loses the ordability of the output variable. To solve this issue, we will label encode the output column manually."
   ]
  },
  {
   "cell_type": "code",
   "execution_count": 12,
   "metadata": {},
   "outputs": [],
   "source": [
    "def label_encoder(y):\n",
    "    if y == 'Easy':\n",
    "        return 1\n",
    "    if y == 'Medium':\n",
    "        return 2\n",
    "    if y == 'Hard':\n",
    "        return 3\n",
    "y_train = y_train.apply(label_encoder)\n",
    "y_test = y_test.apply(label_encoder)"
   ]
  },
  {
   "cell_type": "code",
   "execution_count": 13,
   "metadata": {},
   "outputs": [
    {
     "data": {
      "text/plain": [
       "Patient No. (ID)\n",
       "29    2\n",
       "5     1\n",
       "59    3\n",
       "Name: Output, dtype: int64"
      ]
     },
     "execution_count": 13,
     "metadata": {},
     "output_type": "execute_result"
    }
   ],
   "source": [
    "y_train.sample(3)"
   ]
  },
  {
   "cell_type": "markdown",
   "metadata": {},
   "source": [
    "Next, the data is scaled. This is done in order to ensure that data with different units are consistent across the table. The process centres the data with mean of 0, and standard deviation of 1."
   ]
  },
  {
   "cell_type": "code",
   "execution_count": 14,
   "metadata": {},
   "outputs": [],
   "source": [
    "from sklearn import preprocessing\n",
    "scaler = preprocessing.StandardScaler().fit(X_train)\n",
    "X_train_scaled = scaler.transform(X_train) \n",
    "X_test_scaled = scaler.transform(X_test)"
   ]
  },
  {
   "cell_type": "code",
   "execution_count": 15,
   "metadata": {},
   "outputs": [
    {
     "data": {
      "text/plain": [
       "array([[ 0.22149097, -0.00244184,  0.31347326, -0.27358972],\n",
       "       [ 1.01398157,  1.02313166,  0.93664299, -0.97811261],\n",
       "       [-0.3881172 , -0.34429967,  0.08686608,  0.07867172],\n",
       "       [ 1.1054228 ,  1.16964216,  0.99329478, -1.0485649 ],\n",
       "       [ 0.31293219,  0.09523182,  0.31347326, -0.34404201],\n",
       "       [ 1.34926606,  1.46266316,  1.21990196, -1.33037405],\n",
       "       [ 1.41022688,  1.56033682,  1.38985734, -1.33037405],\n",
       "       [ 0.06908892, -0.10011551,  0.25682146, -0.27358972],\n",
       "       [-0.93676454, -0.78383117, -0.87621441,  0.8536469 ],\n",
       "       [-0.90628413, -0.68615751, -0.87621441,  0.78319461],\n",
       "       [-0.57099964, -0.44197334, -0.0264375 ,  0.2195763 ],\n",
       "       [ 1.22734443,  1.26731582,  1.04994658, -1.11901719],\n",
       "       [ 0.92254035,  0.87662116,  0.8799912 , -0.83720803],\n",
       "       [ 1.1054228 ,  1.12080532,  0.99329478, -0.97811261],\n",
       "       [-1.51589229, -1.66289417, -1.8392949 ,  1.69907436],\n",
       "       [ 0.00812811, -0.14895234,  0.20016967, -0.20313743],\n",
       "       [ 0.98350117,  0.97429482,  0.93664299, -0.90766032],\n",
       "       [-1.39397066, -1.41871001, -1.49938414,  1.83997894],\n",
       "       [ 0.77013831,  0.68127382,  0.65338402, -0.69630345],\n",
       "       [-1.02820576, -0.93034167, -1.15947338,  0.92409919],\n",
       "       [-0.7843625 , -0.63732067, -0.81956262,  0.71274232],\n",
       "       [ 1.22734443,  1.31615266,  1.04994658, -1.25992176],\n",
       "       [ 1.68455055,  1.90219466,  1.67311631, -1.40082634],\n",
       "       [ 0.49581464,  0.38825282,  0.48342864, -0.55539888],\n",
       "       [ 0.58725586,  0.53476332,  0.54008043, -0.55539888],\n",
       "       [-1.24156862, -1.22336267, -1.38608055,  1.34681292],\n",
       "       [ 1.65407014,  1.75568416,  1.55981272, -1.40082634],\n",
       "       [-0.90628413, -0.73499434, -0.87621441,  0.78319461],\n",
       "       [-0.96724495, -0.88150484, -0.989518  ,  0.92409919],\n",
       "       [ 1.31878565,  1.41382632,  1.10659837, -1.25992176],\n",
       "       [ 0.92254035,  0.97429482,  0.93664299, -0.90766032],\n",
       "       [-0.29667597, -0.53964701,  0.14351788,  0.00821943],\n",
       "       [-0.44907801, -0.44197334, -0.13974109,  0.07867172],\n",
       "       [-0.20523475, -0.39313651,  0.03021429,  0.00821943],\n",
       "       [ 0.80061872,  0.73011066,  0.71003581, -0.69630345],\n",
       "       [-0.11379352, -0.24662601,  0.08686608,  0.00821943],\n",
       "       [-0.14427393, -0.34429967,  0.20016967, -0.06223286],\n",
       "       [ 1.16638361,  1.16964216,  0.99329478, -1.0485649 ],\n",
       "       [-0.93676454, -0.83266801, -0.989518  ,  0.8536469 ],\n",
       "       [ 1.19686402,  1.21847899,  1.04994658, -1.11901719],\n",
       "       [-1.1806078 , -1.02801534, -1.15947338,  1.13545605],\n",
       "       [ 0.16053015, -0.05127867,  0.25682146, -0.27358972],\n",
       "       [ 0.89205994,  0.77894749,  0.8233394 , -0.76675574],\n",
       "       [-1.51589229, -1.61405734, -1.72599131,  1.91043123],\n",
       "       [-1.21108821, -1.12568901, -1.32942876,  1.27636063],\n",
       "       [ 0.89205994,  0.82778432,  0.8233394 , -0.76675574],\n",
       "       [-1.1806078 , -1.02801534, -1.21612517,  1.13545605],\n",
       "       [-0.20523475, -0.44197334,  0.14351788, -0.06223286],\n",
       "       [-0.72340168, -0.53964701, -0.13974109,  0.36048088],\n",
       "       [-1.1501274 , -0.97917851, -1.15947338,  0.99455148],\n",
       "       [-1.36349025, -1.36987317, -1.61268773,  1.76952665],\n",
       "       [ 0.83109913,  0.73011066,  0.76668761, -0.76675574],\n",
       "       [ 0.7396579 ,  0.63243699,  0.59673223, -0.62585116],\n",
       "       [-0.84532332, -0.68615751, -0.76291082,  0.78319461],\n",
       "       [ 0.64821668,  0.58360016,  0.59673223, -0.62585116],\n",
       "       [ 1.28830525,  1.36498949,  1.04994658, -1.25992176],\n",
       "       [-1.42445107, -1.56522051, -1.72599131,  1.62862207],\n",
       "       [-1.48541189, -1.51638367, -1.8392949 ,  1.83997894],\n",
       "       [-1.33300985, -1.32103634, -1.55603593,  1.55816979],\n",
       "       [-0.60148005, -0.49081017, -0.13974109,  0.2195763 ]])"
      ]
     },
     "execution_count": 15,
     "metadata": {},
     "output_type": "execute_result"
    }
   ],
   "source": [
    "X_train_scaled"
   ]
  },
  {
   "cell_type": "markdown",
   "metadata": {},
   "source": [
    "## Classification"
   ]
  },
  {
   "cell_type": "markdown",
   "metadata": {},
   "source": [
    "Now the running of Machine Learning algorithms can begin. This notebook starts by training classification-based algorithms on the training data. We also use Grid Search hyperparamter optimisation to choose the hyperparamters that maximise the accuracy scores of the models. Accuracy scoring is on a range between 0 and 1, where 0 indicates worst performance, and 1 best. We train eight classification models here, and run each one seveal times, with different combinations of hyperparameter values. We output the classification scores for each: for each model with their optimal hyperparamters. We then choose the model that maximises classification scores."
   ]
  },
  {
   "cell_type": "code",
   "execution_count": 16,
   "metadata": {},
   "outputs": [],
   "source": [
    "from sklearn.model_selection import cross_val_score\n",
    "from sklearn.ensemble import RandomForestClassifier\n",
    "from xgboost import XGBClassifier\n",
    "from sklearn.metrics import mean_absolute_error\n",
    "from sklearn.model_selection import GridSearchCV\n",
    "from sklearn.svm import SVC\n",
    "from sklearn.tree import DecisionTreeClassifier\n",
    "from sklearn.naive_bayes import GaussianNB\n",
    "from sklearn.neighbors import KNeighborsClassifier\n",
    "from sklearn.discriminant_analysis import LinearDiscriminantAnalysis\n",
    "from sklearn.linear_model import LogisticRegression"
   ]
  },
  {
   "cell_type": "code",
   "execution_count": 17,
   "metadata": {},
   "outputs": [],
   "source": [
    "parameters_RFC = {'n_estimators': [4, 6, 9], \n",
    "                  'max_features': ['log2', 'sqrt','auto'], \n",
    "                  'criterion': ['entropy', 'gini'],\n",
    "                  'max_depth': [2, 3, 5, 10], \n",
    "                  'min_samples_split': [2, 3, 5],\n",
    "                  'min_samples_leaf': [1,5,8]\n",
    "                 }\n",
    "parameters_XGBC = {'n_estimators': [400, 600, 800], \n",
    "                  'early_stopping_rounds': [3, 5, 7], \n",
    "                  'learning_rate': [0.05, 0.1, 0.3, 0.5]\n",
    "                  } \n",
    "parameters_SVM = {'C' : [0.01, 0.1, 1, 10, 100],\n",
    "                 'kernel': ['linear', 'rbf', 'sigmoid'],\n",
    "                  'gamma': [0.001, 0.01, 0.1, 1]\n",
    "                 }\n",
    "parameters_decision_tree = {'criterion': ['entropy', 'gini'],\n",
    "                             'max_depth': [2, 3, 5, 10],\n",
    "                            'min_samples_split': [2, 3, 5],\n",
    "                              'min_samples_leaf': [1,5,8]\n",
    "                           }\n",
    "parameters_NB = {'priors' : [None]}\n",
    "parameters_kNN = {'n_neighbors': [3, 5, 10, 15],\n",
    "                 'p': [1, 2, 3, 4]}\n",
    "parameters_LDA = {'solver': ['svd', 'lsqr', 'eigen']}\n",
    "parameters_logistic = {'C': np.logspace(-3, 3, 7),\n",
    "                      'penalty': ['l1', 'l2']}\n",
    "\n",
    "models = {'SVM': [SVC(), parameters_SVM],\n",
    "          'Logistic': [LogisticRegression(), parameters_logistic],\n",
    "          'LDA': [LinearDiscriminantAnalysis(), parameters_LDA],\n",
    "          'kNN': [KNeighborsClassifier(), parameters_kNN],\n",
    "          'Decision Tree': [DecisionTreeClassifier(), parameters_decision_tree],\n",
    "          'Naive Bayes' : [GaussianNB(), parameters_NB],\n",
    "        'Random Forest': [RandomForestClassifier(), parameters_RFC],\n",
    "         'XGBoost': [XGBClassifier(), parameters_XGBC]}"
   ]
  },
  {
   "cell_type": "code",
   "execution_count": 18,
   "metadata": {},
   "outputs": [],
   "source": [
    "def best_classifier(models):\n",
    "    global results\n",
    "    results = {}\n",
    "    for i in models:\n",
    "        CV = GridSearchCV(models[i][0], models[i][1], cv=5, iid=False, scoring='accuracy', n_jobs=1)\n",
    "        CV = CV.fit(X_train_scaled, y_train)\n",
    "        print(f'{i} scored {CV.best_score_}')\n",
    "        results[i] = [CV.best_score_, CV.best_estimator_]\n",
    "    return results"
   ]
  },
  {
   "cell_type": "code",
   "execution_count": 19,
   "metadata": {},
   "outputs": [
    {
     "name": "stdout",
     "output_type": "stream",
     "text": [
      "SVM scored 0.9818181818181818\n",
      "Logistic scored 0.9818181818181818\n",
      "LDA scored 0.9469696969696969\n",
      "kNN scored 0.9636363636363636\n",
      "Decision Tree scored 1.0\n",
      "Naive Bayes scored 0.9636363636363636\n",
      "Random Forest scored 1.0\n",
      "XGBoost scored 0.9484848484848485\n"
     ]
    },
    {
     "data": {
      "text/plain": [
       "{'SVM': [0.9818181818181818,\n",
       "  SVC(C=10, cache_size=200, class_weight=None, coef0=0.0,\n",
       "      decision_function_shape='ovr', degree=3, gamma=1, kernel='rbf', max_iter=-1,\n",
       "      probability=False, random_state=None, shrinking=True, tol=0.001,\n",
       "      verbose=False)],\n",
       " 'Logistic': [0.9818181818181818,\n",
       "  LogisticRegression(C=100.0, class_weight=None, dual=False, fit_intercept=True,\n",
       "                     intercept_scaling=1, l1_ratio=None, max_iter=100,\n",
       "                     multi_class='warn', n_jobs=None, penalty='l1',\n",
       "                     random_state=None, solver='warn', tol=0.0001, verbose=0,\n",
       "                     warm_start=False)],\n",
       " 'LDA': [0.9469696969696969,\n",
       "  LinearDiscriminantAnalysis(n_components=None, priors=None, shrinkage=None,\n",
       "                             solver='svd', store_covariance=False, tol=0.0001)],\n",
       " 'kNN': [0.9636363636363636,\n",
       "  KNeighborsClassifier(algorithm='auto', leaf_size=30, metric='minkowski',\n",
       "                       metric_params=None, n_jobs=None, n_neighbors=3, p=1,\n",
       "                       weights='uniform')],\n",
       " 'Decision Tree': [1.0,\n",
       "  DecisionTreeClassifier(class_weight=None, criterion='entropy', max_depth=2,\n",
       "                         max_features=None, max_leaf_nodes=None,\n",
       "                         min_impurity_decrease=0.0, min_impurity_split=None,\n",
       "                         min_samples_leaf=5, min_samples_split=2,\n",
       "                         min_weight_fraction_leaf=0.0, presort=False,\n",
       "                         random_state=None, splitter='best')],\n",
       " 'Naive Bayes': [0.9636363636363636,\n",
       "  GaussianNB(priors=None, var_smoothing=1e-09)],\n",
       " 'Random Forest': [1.0,\n",
       "  RandomForestClassifier(bootstrap=True, class_weight=None, criterion='entropy',\n",
       "                         max_depth=2, max_features='log2', max_leaf_nodes=None,\n",
       "                         min_impurity_decrease=0.0, min_impurity_split=None,\n",
       "                         min_samples_leaf=1, min_samples_split=3,\n",
       "                         min_weight_fraction_leaf=0.0, n_estimators=9,\n",
       "                         n_jobs=None, oob_score=False, random_state=None,\n",
       "                         verbose=0, warm_start=False)],\n",
       " 'XGBoost': [0.9484848484848485,\n",
       "  XGBClassifier(base_score=0.5, booster='gbtree', colsample_bylevel=1,\n",
       "                colsample_bynode=1, colsample_bytree=1, early_stopping_rounds=3,\n",
       "                gamma=0, learning_rate=0.05, max_delta_step=0, max_depth=3,\n",
       "                min_child_weight=1, missing=None, n_estimators=400, n_jobs=1,\n",
       "                nthread=None, objective='multi:softprob', random_state=0,\n",
       "                reg_alpha=0, reg_lambda=1, scale_pos_weight=1, seed=None,\n",
       "                silent=None, subsample=1, verbosity=1)]}"
      ]
     },
     "execution_count": 19,
     "metadata": {},
     "output_type": "execute_result"
    }
   ],
   "source": [
    "best_classifier(models)"
   ]
  },
  {
   "cell_type": "markdown",
   "metadata": {},
   "source": [
    "The first eight lines in the above output show the accuracy scores for each model, with optimal hyperparamters (obtained from a given range using Grid Search hypereparameter optimisation). Decision Trees and Random Forests both achieve 100% accuracy scores. Before we select a model, however, we try running the same algorithms and Grid Search hyperparameter optimisation technique without data standardisation using StandardScalar(). If we get the same accuracy scores without data scaling, the decision tree will become more interpretable, as it will deal with initial input values into the algorithm."
   ]
  },
  {
   "cell_type": "code",
   "execution_count": 20,
   "metadata": {},
   "outputs": [],
   "source": [
    "def best_classifier(models):\n",
    "    global results\n",
    "    results = {}\n",
    "    for i in models:\n",
    "        CV = GridSearchCV(models[i][0], models[i][1], cv=5, iid=False, scoring='accuracy', n_jobs=1)\n",
    "        CV = CV.fit(X_train, y_train)\n",
    "        print(f'{i} scored {CV.best_score_}')\n",
    "        results[i] = [CV.best_score_, CV.best_estimator_]\n",
    "    return results"
   ]
  },
  {
   "cell_type": "code",
   "execution_count": 21,
   "metadata": {},
   "outputs": [
    {
     "name": "stdout",
     "output_type": "stream",
     "text": [
      "SVM scored 0.9818181818181818\n",
      "Logistic scored 0.9818181818181818\n",
      "LDA scored 0.9469696969696969\n",
      "kNN scored 0.9636363636363636\n",
      "Decision Tree scored 1.0\n",
      "Naive Bayes scored 0.9636363636363636\n",
      "Random Forest scored 1.0\n",
      "XGBoost scored 0.9484848484848485\n"
     ]
    },
    {
     "data": {
      "text/plain": [
       "{'SVM': [0.9818181818181818,\n",
       "  SVC(C=0.1, cache_size=200, class_weight=None, coef0=0.0,\n",
       "      decision_function_shape='ovr', degree=3, gamma=0.001, kernel='linear',\n",
       "      max_iter=-1, probability=False, random_state=None, shrinking=True,\n",
       "      tol=0.001, verbose=False)],\n",
       " 'Logistic': [0.9818181818181818,\n",
       "  LogisticRegression(C=10.0, class_weight=None, dual=False, fit_intercept=True,\n",
       "                     intercept_scaling=1, l1_ratio=None, max_iter=100,\n",
       "                     multi_class='warn', n_jobs=None, penalty='l1',\n",
       "                     random_state=None, solver='warn', tol=0.0001, verbose=0,\n",
       "                     warm_start=False)],\n",
       " 'LDA': [0.9469696969696969,\n",
       "  LinearDiscriminantAnalysis(n_components=None, priors=None, shrinkage=None,\n",
       "                             solver='svd', store_covariance=False, tol=0.0001)],\n",
       " 'kNN': [0.9636363636363636,\n",
       "  KNeighborsClassifier(algorithm='auto', leaf_size=30, metric='minkowski',\n",
       "                       metric_params=None, n_jobs=None, n_neighbors=3, p=1,\n",
       "                       weights='uniform')],\n",
       " 'Decision Tree': [1.0,\n",
       "  DecisionTreeClassifier(class_weight=None, criterion='entropy', max_depth=5,\n",
       "                         max_features=None, max_leaf_nodes=None,\n",
       "                         min_impurity_decrease=0.0, min_impurity_split=None,\n",
       "                         min_samples_leaf=1, min_samples_split=3,\n",
       "                         min_weight_fraction_leaf=0.0, presort=False,\n",
       "                         random_state=None, splitter='best')],\n",
       " 'Naive Bayes': [0.9636363636363636,\n",
       "  GaussianNB(priors=None, var_smoothing=1e-09)],\n",
       " 'Random Forest': [1.0,\n",
       "  RandomForestClassifier(bootstrap=True, class_weight=None, criterion='entropy',\n",
       "                         max_depth=2, max_features='sqrt', max_leaf_nodes=None,\n",
       "                         min_impurity_decrease=0.0, min_impurity_split=None,\n",
       "                         min_samples_leaf=1, min_samples_split=2,\n",
       "                         min_weight_fraction_leaf=0.0, n_estimators=4,\n",
       "                         n_jobs=None, oob_score=False, random_state=None,\n",
       "                         verbose=0, warm_start=False)],\n",
       " 'XGBoost': [0.9484848484848485,\n",
       "  XGBClassifier(base_score=0.5, booster='gbtree', colsample_bylevel=1,\n",
       "                colsample_bynode=1, colsample_bytree=1, early_stopping_rounds=3,\n",
       "                gamma=0, learning_rate=0.05, max_delta_step=0, max_depth=3,\n",
       "                min_child_weight=1, missing=None, n_estimators=400, n_jobs=1,\n",
       "                nthread=None, objective='multi:softprob', random_state=0,\n",
       "                reg_alpha=0, reg_lambda=1, scale_pos_weight=1, seed=None,\n",
       "                silent=None, subsample=1, verbosity=1)]}"
      ]
     },
     "execution_count": 21,
     "metadata": {},
     "output_type": "execute_result"
    }
   ],
   "source": [
    "best_classifier(models)"
   ]
  },
  {
   "cell_type": "markdown",
   "metadata": {},
   "source": [
    "As we can see from above, the accuracy scores for each model are identical. Consequently, we take the un-standardised data. Given that both of these achieved the same (maximal) accuracy score, it is tempting to choose Decision Treess, as these, in contast to Ensemble Methods, are more interpretable. However, when analysing feature importance. It is noted the optimal decision tree, for this dataset, uses only two features on which to classify:"
   ]
  },
  {
   "cell_type": "code",
   "execution_count": 22,
   "metadata": {},
   "outputs": [],
   "source": [
    "clf_decision_tree = results['Decision Tree'][1]"
   ]
  },
  {
   "cell_type": "code",
   "execution_count": 23,
   "metadata": {},
   "outputs": [
    {
     "data": {
      "text/plain": [
       "<matplotlib.axes._subplots.AxesSubplot at 0x2135325b978>"
      ]
     },
     "execution_count": 23,
     "metadata": {},
     "output_type": "execute_result"
    },
    {
     "data": {
      "image/png": "[encoded data removed]",
      "text/plain": [
       "<Figure size 1080x360 with 1 Axes>"
      ]
     },
     "metadata": {
      "needs_background": "light"
     },
     "output_type": "display_data"
    }
   ],
   "source": [
    "import scikitplot as skplt\n",
    "skplt.estimators.plot_feature_importances(clf_decision_tree, feature_names=['Average Shoulder abduction', 'Average Shoulder flexion', 'Average Elbow flexion', 'Total time taken'], figsize=(15, 5))"
   ]
  },
  {
   "cell_type": "markdown",
   "metadata": {},
   "source": [
    "Indeed, creating a decision tree on fewer features is the characteristic in which the algoirhtm specialises. This is fine for the training dataset. However, when applied in a real-world scenario to real patients, the client may find that it is in fact other features that are important in classifying patients, other than Average Shoulder flexion and Total Time Taken. Indeed, the cleint made this data only on an assumption of future patients' abilities. It is therefore necessary to choose a model that accepts more, rather than fewer, feature inputs, in order to be more robust. Conseqently, we visaluse the feature importance of the optimal random forest classifier, which also achieved 100% accuracy:"
   ]
  },
  {
   "cell_type": "code",
   "execution_count": 24,
   "metadata": {},
   "outputs": [],
   "source": [
    "clf_random_forest = results['Random Forest'][1]"
   ]
  },
  {
   "cell_type": "code",
   "execution_count": 25,
   "metadata": {},
   "outputs": [
    {
     "data": {
      "text/plain": [
       "<matplotlib.axes._subplots.AxesSubplot at 0x213531ce400>"
      ]
     },
     "execution_count": 25,
     "metadata": {},
     "output_type": "execute_result"
    },
    {
     "data": {
      "image/png": "[encoded data removed]",
      "text/plain": [
       "<Figure size 1080x360 with 1 Axes>"
      ]
     },
     "metadata": {
      "needs_background": "light"
     },
     "output_type": "display_data"
    }
   ],
   "source": [
    "skplt.estimators.plot_feature_importances(clf_random_forest, feature_names=['Average Shoulder abduction', 'Average Shoulder flexion', 'Average Elbow flexion', 'Total time taken'], figsize=(15, 5))"
   ]
  },
  {
   "cell_type": "markdown",
   "metadata": {},
   "source": [
    "Using all four features as inputs is more robust, and therefore becomes the classification model of choice. For the report, we export the decision tree into a visual format, illustrating what criteria the splitting algorithm chooses to separate the data into their corresponding classes, with the fewest number of splits."
   ]
  },
  {
   "cell_type": "code",
   "execution_count": 26,
   "metadata": {},
   "outputs": [],
   "source": [
    "from sklearn import tree\n",
    "tree.export_graphviz(clf_decision_tree, out_file='tree.dot')   "
   ]
  },
  {
   "cell_type": "code",
   "execution_count": 27,
   "metadata": {},
   "outputs": [
    {
     "name": "stderr",
     "output_type": "stream",
     "text": [
      "C:\\Users\\samue\\AppData\\Roaming\\Python\\Python37\\site-packages\\sklearn\\externals\\six.py:31: DeprecationWarning: The module is deprecated in version 0.21 and will be removed in version 0.23 since we've dropped support for Python 2.7. Please rely on the official version of six (https://pypi.org/project/six/).\n",
      "  \"(https://pypi.org/project/six/).\", DeprecationWarning)\n"
     ]
    }
   ],
   "source": [
    "from sklearn.externals.six import StringIO  \n",
    "import pydot \n",
    "dot_data = StringIO() \n",
    "tree.export_graphviz(clf_decision_tree, out_file=dot_data) \n",
    "graph = pydot.graph_from_dot_data(dot_data.getvalue()) \n",
    "graph[0].write_pdf(\"graph.pdf\")"
   ]
  },
  {
   "cell_type": "markdown",
   "metadata": {},
   "source": [
    "Since we have already obtained 100% accuracy on the training data, there is little need for a comparison between this and regression and ordinal regression, since we have already achieved optimal results (on the training data, it is always possible that we have overfit the data, which we will see in the testing data set accuracy scores). However, we will briefly compare classifcation, here, against regression and ordinal regression approaches, to see whether either of these approahces, for the algorithms on which we test, can also exhibit 100% accuracy."
   ]
  },
  {
   "cell_type": "markdown",
   "metadata": {},
   "source": [
    "## Regression"
   ]
  },
  {
   "cell_type": "markdown",
   "metadata": {},
   "source": [
    "We start, therefore, with regression."
   ]
  },
  {
   "cell_type": "code",
   "execution_count": 28,
   "metadata": {},
   "outputs": [
    {
     "data": {
      "text/plain": [
       "LinearRegression(copy_X=True, fit_intercept=True, n_jobs=None, normalize=False)"
      ]
     },
     "execution_count": 28,
     "metadata": {},
     "output_type": "execute_result"
    }
   ],
   "source": [
    "from sklearn import linear_model\n",
    "reg = linear_model.LinearRegression()\n",
    "reg.fit(X_train, y_train)"
   ]
  },
  {
   "cell_type": "code",
   "execution_count": 29,
   "metadata": {},
   "outputs": [
    {
     "data": {
      "text/plain": [
       "array([ 0.02460376, -0.01245052,  0.04055719,  0.03369533])"
      ]
     },
     "execution_count": 29,
     "metadata": {},
     "output_type": "execute_result"
    }
   ],
   "source": [
    "reg.coef_"
   ]
  },
  {
   "cell_type": "markdown",
   "metadata": {},
   "source": [
    "In order to use accuracy scores, we need to convert the output of the regression model into an integer. Otherwise, the model will output a continuous number, which is not useful when we want a classification (Easy, Medium, or Hard). Consequently, we convert the outputs of the regression into integers, and run the accuracy scores these integer predictions."
   ]
  },
  {
   "cell_type": "code",
   "execution_count": 30,
   "metadata": {},
   "outputs": [
    {
     "data": {
      "text/plain": [
       "0.9666666666666667"
      ]
     },
     "execution_count": 30,
     "metadata": {},
     "output_type": "execute_result"
    }
   ],
   "source": [
    "from sklearn.metrics import accuracy_score\n",
    "predictions = reg.predict(X_train)\n",
    "predictions = np.around(predictions, decimals=0)\n",
    "accuracy = accuracy_score(y_train, predictions)\n",
    "accuracy"
   ]
  },
  {
   "cell_type": "markdown",
   "metadata": {},
   "source": [
    "This is alrady a very high accuracy score. In order to attempt to maximise it further (and reduce the extent of overfitting), we can apply Ridge Regression regularisation. We can combine this with Generalized Cross-Validation, which is a form of efficient Leave-One-Out cross-validation."
   ]
  },
  {
   "cell_type": "code",
   "execution_count": 31,
   "metadata": {},
   "outputs": [
    {
     "data": {
      "text/plain": [
       "RidgeCV(alphas=array([1.e-06, 1.e-05, 1.e-04, 1.e-03, 1.e-02, 1.e-01, 1.e+00, 1.e+01,\n",
       "       1.e+02, 1.e+03, 1.e+04, 1.e+05, 1.e+06]),\n",
       "        cv=None, fit_intercept=True, gcv_mode=None, normalize=False,\n",
       "        scoring=None, store_cv_values=False)"
      ]
     },
     "execution_count": 31,
     "metadata": {},
     "output_type": "execute_result"
    }
   ],
   "source": [
    "reg = linear_model.RidgeCV(alphas=np.logspace(-6, 6, 13))\n",
    "reg.fit(X_train, y_train)"
   ]
  },
  {
   "cell_type": "code",
   "execution_count": 32,
   "metadata": {},
   "outputs": [
    {
     "data": {
      "text/plain": [
       "100.0"
      ]
     },
     "execution_count": 32,
     "metadata": {},
     "output_type": "execute_result"
    }
   ],
   "source": [
    "reg.alpha_"
   ]
  },
  {
   "cell_type": "code",
   "execution_count": 33,
   "metadata": {},
   "outputs": [
    {
     "data": {
      "text/plain": [
       "0.9666666666666667"
      ]
     },
     "execution_count": 33,
     "metadata": {},
     "output_type": "execute_result"
    }
   ],
   "source": [
    "predictions = reg.predict(X_train)\n",
    "predictions = np.around(predictions, decimals=0)\n",
    "accuracy = accuracy_score(y_train, predictions)\n",
    "accuracy"
   ]
  },
  {
   "cell_type": "markdown",
   "metadata": {},
   "source": [
    "As we can see, however, using regularisaion here does not increase the accuracy scores of the model. Rather than produce an accuracy score based on the entirity of the training data, it is more reliable to produces accuracy scores based on cross-validation."
   ]
  },
  {
   "cell_type": "code",
   "execution_count": 34,
   "metadata": {},
   "outputs": [
    {
     "data": {
      "text/plain": [
       "0.8884203230244341"
      ]
     },
     "execution_count": 34,
     "metadata": {},
     "output_type": "execute_result"
    }
   ],
   "source": [
    "from sklearn.model_selection import cross_val_score\n",
    "scores = cross_val_score(reg, X_train, y_train, cv=5)\n",
    "scores.mean()"
   ]
  },
  {
   "cell_type": "markdown",
   "metadata": {},
   "source": [
    "This score, however, is significantly lower than the above. This is because Scikit-learn's cross_val_score does not allow us to round the predicted values to the nearest integer before feeding into our accuaracy metric. In order to resolve this issue, we manually create a cross validation metric and run the regression again, complete with Ridge Regression regularisation:"
   ]
  },
  {
   "cell_type": "code",
   "execution_count": 35,
   "metadata": {},
   "outputs": [],
   "source": [
    "from sklearn.model_selection import KFold\n",
    "def reg():\n",
    "    fold = KFold(n_splits = 5, shuffle = True)\n",
    "    CV_score = []\n",
    "    for i in range(4):\n",
    "        split = next(fold.split(X_train), None)\n",
    "        X_train_split, X_test_split, y_train_split, y_test_split = X_train.iloc[split[0]], X_train.iloc[split[1]], y_train.iloc[split[0]], y_train.iloc[split[1]]\n",
    "        reg = linear_model.RidgeCV(alphas=np.logspace(-6, 6, 13))\n",
    "        reg.fit(X_train_split, y_train_split)\n",
    "        predictions = reg.predict(X_test_split)\n",
    "        predictions = np.around(predictions, decimals=0)\n",
    "        accuracy = accuracy_score(y_test_split, predictions)\n",
    "        CV_score.append(accuracy)\n",
    "    return np.mean(CV_score)"
   ]
  },
  {
   "cell_type": "code",
   "execution_count": 36,
   "metadata": {},
   "outputs": [
    {
     "data": {
      "text/plain": [
       "0.9000000000000001"
      ]
     },
     "execution_count": 36,
     "metadata": {},
     "output_type": "execute_result"
    }
   ],
   "source": [
    "CV_score = reg()\n",
    "CV_score"
   ]
  },
  {
   "cell_type": "markdown",
   "metadata": {},
   "source": [
    "As we can see, regression produces very strong results. It is not as strong as the best in the classification category, however, so in this notebook, we stick with classification as the most strongly performing model type."
   ]
  },
  {
   "cell_type": "markdown",
   "metadata": {},
   "source": [
    "## Ordinal Regression"
   ]
  },
  {
   "cell_type": "markdown",
   "metadata": {},
   "source": [
    "Next we analyse ordinal regression."
   ]
  },
  {
   "cell_type": "code",
   "execution_count": 37,
   "metadata": {},
   "outputs": [
    {
     "data": {
      "text/plain": [
       "array([1.        , 1.        , 1.        , 1.        , 0.91666667])"
      ]
     },
     "execution_count": 37,
     "metadata": {},
     "output_type": "execute_result"
    }
   ],
   "source": [
    "import mord\n",
    "log = mord.LogisticIT(alpha=1.0, verbose=0)\n",
    "log.fit(X_train, y_train)\n",
    "scores = cross_val_score(log, X_train, y_train, cv=5)\n",
    "scores"
   ]
  },
  {
   "cell_type": "code",
   "execution_count": 38,
   "metadata": {},
   "outputs": [
    {
     "data": {
      "text/plain": [
       "0.9833333333333334"
      ]
     },
     "execution_count": 38,
     "metadata": {},
     "output_type": "execute_result"
    }
   ],
   "source": [
    "scores.mean()"
   ]
  },
  {
   "cell_type": "markdown",
   "metadata": {},
   "source": [
    "This is a very high accuracy score. It is lowered only by the 5th CV fold, which may be considered as an outlier. In order to attempt to maximise accuracy scores, we use Grid Search CV twice, in order to attempt to maximise the extent of regularisation, in order to reduce overfitting. To do this, we attempt to optimise the parameter alpha."
   ]
  },
  {
   "cell_type": "code",
   "execution_count": 39,
   "metadata": {},
   "outputs": [
    {
     "name": "stdout",
     "output_type": "stream",
     "text": [
      "Logistic IT scored 0.9833333333333334\n",
      "[0.9833333333333334, LogisticIT(alpha=0.1, max_iter=1000, verbose=0)]\n"
     ]
    }
   ],
   "source": [
    "parameters_logIT = {'alpha': [0, 0.1, 0.2, 0.3, 0.4, 0.5, 0.6, 0.7, 0.8, 0.9, 1]}\n",
    "CV = GridSearchCV(mord.LogisticIT(), parameters_logIT, cv=5, iid=False, scoring='accuracy', n_jobs=1)\n",
    "CV = CV.fit(X_train, y_train)\n",
    "print(f'Logistic IT scored {CV.best_score_}')\n",
    "results = [CV.best_score_, CV.best_estimator_]\n",
    "print(results)"
   ]
  },
  {
   "cell_type": "markdown",
   "metadata": {},
   "source": [
    "The value of alpha that maximised accuracy was 0.1, so we repeat Cross Validation, with updated values for the alpha hyperparameter."
   ]
  },
  {
   "cell_type": "code",
   "execution_count": 40,
   "metadata": {},
   "outputs": [
    {
     "name": "stdout",
     "output_type": "stream",
     "text": [
      "Logistic IT scored 0.9833333333333334\n",
      "[0.9833333333333334, LogisticIT(alpha=0.01, max_iter=1000, verbose=0)]\n"
     ]
    }
   ],
   "source": [
    "parameters_logIT = {'alpha': [0, 0.01, 0.02, 0.03, 0.04, 0.05, 0.06, 0.07, 0.08, 0.08, 0.1]}\n",
    "CV = GridSearchCV(mord.LogisticIT(), parameters_logIT, cv=5, iid=False, scoring='accuracy', n_jobs=1)\n",
    "CV = CV.fit(X_train, y_train)\n",
    "print(f'Logistic IT scored {CV.best_score_}')\n",
    "results = [CV.best_score_, CV.best_estimator_]\n",
    "print(results)"
   ]
  },
  {
   "cell_type": "markdown",
   "metadata": {},
   "source": [
    "As we can see, however, such hyperparameter optimisation does not increase the accuracy scores further."
   ]
  },
  {
   "cell_type": "code",
   "execution_count": 41,
   "metadata": {},
   "outputs": [
    {
     "name": "stdout",
     "output_type": "stream",
     "text": [
      "Logistic AT scored 0.9833333333333334\n",
      "[0.9833333333333334, LogisticAT(alpha=0.1, max_iter=1000, verbose=0)]\n"
     ]
    }
   ],
   "source": [
    "parameters_logAT = {'alpha': [0, 0.1, 0.2, 0.3, 0.4, 0.5, 0.6, 0.7, 0.8, 0.9, 1]}\n",
    "CV = GridSearchCV(mord.LogisticAT(), parameters_logAT, cv=5, iid=False, scoring='accuracy', n_jobs=1)\n",
    "CV = CV.fit(X_train, y_train)\n",
    "print(f'Logistic AT scored {CV.best_score_}')\n",
    "results = [CV.best_score_, CV.best_estimator_]\n",
    "print(results)"
   ]
  },
  {
   "cell_type": "markdown",
   "metadata": {},
   "source": [
    "The All-Threshold and Immediate-Thershold variants have identical accuracy scores."
   ]
  },
  {
   "cell_type": "markdown",
   "metadata": {},
   "source": [
    "All of the models exhibit very similar results. Indeed, because of the small dataset, a single misclassification will bias the accuracy score downwards by almomst 2%. This means that most differences in the classification accuracies are due to only one or two misclassifications using cross-validation. Despite this, random forests performed best, and they will be used as the model of choice for the first table. They will now be tested for accuracy scores against the testing data."
   ]
  },
  {
   "cell_type": "markdown",
   "metadata": {},
   "source": [
    "## Model Scores"
   ]
  },
  {
   "cell_type": "code",
   "execution_count": 42,
   "metadata": {},
   "outputs": [
    {
     "data": {
      "text/plain": [
       "RandomForestClassifier(bootstrap=True, class_weight=None, criterion='entropy',\n",
       "                       max_depth=2, max_features='sqrt', max_leaf_nodes=None,\n",
       "                       min_impurity_decrease=0.0, min_impurity_split=None,\n",
       "                       min_samples_leaf=1, min_samples_split=2,\n",
       "                       min_weight_fraction_leaf=0.0, n_estimators=4,\n",
       "                       n_jobs=None, oob_score=False, random_state=None,\n",
       "                       verbose=0, warm_start=False)"
      ]
     },
     "execution_count": 42,
     "metadata": {},
     "output_type": "execute_result"
    }
   ],
   "source": [
    "clf_random_forest"
   ]
  },
  {
   "cell_type": "code",
   "execution_count": 43,
   "metadata": {},
   "outputs": [
    {
     "data": {
      "text/plain": [
       "array([1, 1, 2, 1, 1, 3, 1, 2, 2, 2, 2, 3, 3, 3, 2], dtype=int64)"
      ]
     },
     "execution_count": 43,
     "metadata": {},
     "output_type": "execute_result"
    }
   ],
   "source": [
    "y_pred = clf_random_forest.predict(X_test)\n",
    "y_pred"
   ]
  },
  {
   "cell_type": "code",
   "execution_count": 44,
   "metadata": {},
   "outputs": [
    {
     "data": {
      "text/plain": [
       "1.0"
      ]
     },
     "execution_count": 44,
     "metadata": {},
     "output_type": "execute_result"
    }
   ],
   "source": [
    "accuracy = accuracy_score(y_test, y_pred)\n",
    "accuracy"
   ]
  },
  {
   "cell_type": "markdown",
   "metadata": {},
   "source": [
    "As can be seen, the model exhibits 100% accuracy on the testing data, which the highest we could want. This is a perfect model of choice, therefore. It need be stated, however, that random forests may not be the only perfect model of choice: there could exist several models that exhibit 100% accuracy scores on the testing data. However, because of the highest cross-validation score, combined with the most features chosen as input variables, random forests are chosen. Finally, a confusion matrix is plotted, and a reverse label encoder is applied, in order to view the lables as Easy, Medium, and Hard:"
   ]
  },
  {
   "cell_type": "code",
   "execution_count": 45,
   "metadata": {},
   "outputs": [],
   "source": [
    "def reverse_label_encoder(y):\n",
    "    if y == 1:\n",
    "        return 'Easy'\n",
    "    if y == 2:\n",
    "        return 'Medium'\n",
    "    if y == 3:\n",
    "        return 'Hard'\n",
    "y_pred_series = pd.Series(y_pred)\n",
    "y_pred_original = y_pred_series.apply(reverse_label_encoder)\n",
    "y_test_original = y_test.apply(reverse_label_encoder)"
   ]
  },
  {
   "cell_type": "code",
   "execution_count": 46,
   "metadata": {},
   "outputs": [
    {
     "data": {
      "image/png": "[encoded data removed]",
      "text/plain": [
       "<Figure size 360x360 with 2 Axes>"
      ]
     },
     "metadata": {
      "needs_background": "light"
     },
     "output_type": "display_data"
    }
   ],
   "source": [
    "skplt.metrics.plot_confusion_matrix(y_test_original, y_pred_original, normalize=True, figsize=(5, 5), labels=['Easy', 'Medium', 'Hard'])\n",
    "plt.autoscale()"
   ]
  },
  {
   "cell_type": "markdown",
   "metadata": {},
   "source": [
    "As we can see, using a Random Forests classifier with optimal hyperparameters classifies every patient correctly. We now save the model, to import into other Python scripts and notebooks."
   ]
  },
  {
   "cell_type": "code",
   "execution_count": 47,
   "metadata": {},
   "outputs": [
    {
     "data": {
      "text/plain": [
       "['Table1_random_forest.pkl']"
      ]
     },
     "execution_count": 47,
     "metadata": {},
     "output_type": "execute_result"
    }
   ],
   "source": [
    "import joblib\n",
    "joblib.dump(clf_random_forest, 'Table1_random_forest.pkl')"
   ]
  }
 ],
 "metadata": {
  "kernelspec": {
   "display_name": "Python 3",
   "language": "python",
   "name": "python3"
  },
  "language_info": {
   "codemirror_mode": {
    "name": "ipython",
    "version": 3
   },
   "file_extension": ".py",
   "mimetype": "text/x-python",
   "name": "python",
   "nbconvert_exporter": "python",
   "pygments_lexer": "ipython3",
   "version": "3.7.0"
  }
 },
 "nbformat": 4,
 "nbformat_minor": 2
}
